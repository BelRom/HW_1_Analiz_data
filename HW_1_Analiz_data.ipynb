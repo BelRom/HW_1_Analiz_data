{
  "cells": [
    {
      "cell_type": "markdown",
      "metadata": {
        "id": "view-in-github",
        "colab_type": "text"
      },
      "source": [
        "<a href=\"https://colab.research.google.com/github/BelRom/HW_1_Analiz_data/blob/main/HW_1_Analiz_data.ipynb\" target=\"_parent\"><img src=\"https://colab.research.google.com/assets/colab-badge.svg\" alt=\"Open In Colab\"/></a>"
      ]
    },
    {
      "cell_type": "code",
      "execution_count": null,
      "id": "450dd18a-0016-4a5b-b026-fb6a25d13fc8",
      "metadata": {
        "id": "450dd18a-0016-4a5b-b026-fb6a25d13fc8"
      },
      "outputs": [],
      "source": [
        "import pandas as pd\n",
        "import numpy as np"
      ]
    },
    {
      "cell_type": "markdown",
      "id": "3ce50682-4b76-4738-8f02-8e09336f4b5b",
      "metadata": {
        "id": "3ce50682-4b76-4738-8f02-8e09336f4b5b"
      },
      "source": [
        "Видим что датасет использует после загрузки не оптимальный типы данных, откроем и используем оптимальные типы данных"
      ]
    },
    {
      "cell_type": "code",
      "execution_count": null,
      "id": "042da799-e4a8-4a0e-821b-fd32c718b50a",
      "metadata": {
        "id": "042da799-e4a8-4a0e-821b-fd32c718b50a"
      },
      "outputs": [],
      "source": [
        "dtypes = {\n",
        "    \"row_id\": \"int64\",\n",
        "    \"timestamp\": \"int64\",\n",
        "    \"user_id\": \"int32\",\n",
        "    \"content_id\": \"int16\",\n",
        "    \"content_type_id\": \"boolean\",\n",
        "    \"task_container_id\": \"int16\",\n",
        "    \"user_answer\": \"int8\",\n",
        "    \"answered_correctly\": \"int8\",\n",
        "    \"prior_question_elapsed_time\": \"float32\",\n",
        "    \"prior_question_had_explanation\": \"boolean\"\n",
        "}\n",
        "train = pd.read_csv('train.csv', dtype=dtypes)"
      ]
    },
    {
      "cell_type": "code",
      "execution_count": null,
      "id": "09f36e6c-b9af-40ff-a35b-1b71076d7e23",
      "metadata": {
        "id": "09f36e6c-b9af-40ff-a35b-1b71076d7e23",
        "outputId": "520bdf5a-b80b-4c8d-9992-e6401822c779"
      },
      "outputs": [
        {
          "name": "stdout",
          "output_type": "stream",
          "text": [
            "Train size: (101230332, 10)\n",
            "<class 'pandas.core.frame.DataFrame'>\n",
            "RangeIndex: 101230332 entries, 0 to 101230331\n",
            "Data columns (total 10 columns):\n",
            " #   Column                          Dtype  \n",
            "---  ------                          -----  \n",
            " 0   row_id                          int64  \n",
            " 1   timestamp                       int64  \n",
            " 2   user_id                         int32  \n",
            " 3   content_id                      int16  \n",
            " 4   content_type_id                 boolean\n",
            " 5   task_container_id               int16  \n",
            " 6   user_answer                     int8   \n",
            " 7   answered_correctly              int8   \n",
            " 8   prior_question_elapsed_time     float32\n",
            " 9   prior_question_had_explanation  boolean\n",
            "dtypes: boolean(2), float32(1), int16(2), int32(1), int64(2), int8(2)\n",
            "memory usage: 3.2 GB\n"
          ]
        }
      ],
      "source": [
        "print(\"Train size:\", train.shape)\n",
        "train.info()"
      ]
    },
    {
      "cell_type": "markdown",
      "id": "4d80a5ba-47a5-4208-abff-32c1224bffcc",
      "metadata": {
        "id": "4d80a5ba-47a5-4208-abff-32c1224bffcc"
      },
      "source": [
        "В дата сете 101230332 строк и 10 столбцов, после приведения типов размер используемой памяти сократился в 2 раза"
      ]
    },
    {
      "cell_type": "code",
      "execution_count": null,
      "id": "b43c68b2-2948-4102-87f6-adfc99b9bf7a",
      "metadata": {
        "id": "b43c68b2-2948-4102-87f6-adfc99b9bf7a",
        "outputId": "ded61f7f-82ef-4b87-c331-96db3b4859e2"
      },
      "outputs": [
        {
          "data": {
            "text/html": [
              "<div>\n",
              "<style scoped>\n",
              "    .dataframe tbody tr th:only-of-type {\n",
              "        vertical-align: middle;\n",
              "    }\n",
              "\n",
              "    .dataframe tbody tr th {\n",
              "        vertical-align: top;\n",
              "    }\n",
              "\n",
              "    .dataframe thead th {\n",
              "        text-align: right;\n",
              "    }\n",
              "</style>\n",
              "<table border=\"1\" class=\"dataframe\">\n",
              "  <thead>\n",
              "    <tr style=\"text-align: right;\">\n",
              "      <th></th>\n",
              "      <th>row_id</th>\n",
              "      <th>timestamp</th>\n",
              "      <th>user_id</th>\n",
              "      <th>content_id</th>\n",
              "      <th>task_container_id</th>\n",
              "      <th>user_answer</th>\n",
              "      <th>answered_correctly</th>\n",
              "      <th>prior_question_elapsed_time</th>\n",
              "    </tr>\n",
              "  </thead>\n",
              "  <tbody>\n",
              "    <tr>\n",
              "      <th>count</th>\n",
              "      <td>1.012303e+08</td>\n",
              "      <td>1.012303e+08</td>\n",
              "      <td>1.012303e+08</td>\n",
              "      <td>1.012303e+08</td>\n",
              "      <td>1.012303e+08</td>\n",
              "      <td>1.012303e+08</td>\n",
              "      <td>1.012303e+08</td>\n",
              "      <td>9.887879e+07</td>\n",
              "    </tr>\n",
              "    <tr>\n",
              "      <th>mean</th>\n",
              "      <td>5.061517e+07</td>\n",
              "      <td>7.703644e+09</td>\n",
              "      <td>1.076732e+09</td>\n",
              "      <td>5.219605e+03</td>\n",
              "      <td>9.040624e+02</td>\n",
              "      <td>1.376123e+00</td>\n",
              "      <td>6.251644e-01</td>\n",
              "      <td>2.542384e+04</td>\n",
              "    </tr>\n",
              "    <tr>\n",
              "      <th>std</th>\n",
              "      <td>2.922268e+07</td>\n",
              "      <td>1.159266e+10</td>\n",
              "      <td>6.197163e+08</td>\n",
              "      <td>3.866359e+03</td>\n",
              "      <td>1.358302e+03</td>\n",
              "      <td>1.192896e+00</td>\n",
              "      <td>5.225307e-01</td>\n",
              "      <td>2.122839e+04</td>\n",
              "    </tr>\n",
              "    <tr>\n",
              "      <th>min</th>\n",
              "      <td>0.000000e+00</td>\n",
              "      <td>0.000000e+00</td>\n",
              "      <td>1.150000e+02</td>\n",
              "      <td>0.000000e+00</td>\n",
              "      <td>0.000000e+00</td>\n",
              "      <td>-1.000000e+00</td>\n",
              "      <td>-1.000000e+00</td>\n",
              "      <td>0.000000e+00</td>\n",
              "    </tr>\n",
              "    <tr>\n",
              "      <th>25%</th>\n",
              "      <td>2.530758e+07</td>\n",
              "      <td>5.243436e+08</td>\n",
              "      <td>5.408116e+08</td>\n",
              "      <td>2.063000e+03</td>\n",
              "      <td>1.040000e+02</td>\n",
              "      <td>0.000000e+00</td>\n",
              "      <td>0.000000e+00</td>\n",
              "      <td>1.600000e+04</td>\n",
              "    </tr>\n",
              "    <tr>\n",
              "      <th>50%</th>\n",
              "      <td>5.061517e+07</td>\n",
              "      <td>2.674234e+09</td>\n",
              "      <td>1.071781e+09</td>\n",
              "      <td>5.026000e+03</td>\n",
              "      <td>3.820000e+02</td>\n",
              "      <td>1.000000e+00</td>\n",
              "      <td>1.000000e+00</td>\n",
              "      <td>2.100000e+04</td>\n",
              "    </tr>\n",
              "    <tr>\n",
              "      <th>75%</th>\n",
              "      <td>7.592275e+07</td>\n",
              "      <td>9.924551e+09</td>\n",
              "      <td>1.615742e+09</td>\n",
              "      <td>7.425000e+03</td>\n",
              "      <td>1.094000e+03</td>\n",
              "      <td>3.000000e+00</td>\n",
              "      <td>1.000000e+00</td>\n",
              "      <td>2.966600e+04</td>\n",
              "    </tr>\n",
              "    <tr>\n",
              "      <th>max</th>\n",
              "      <td>1.012303e+08</td>\n",
              "      <td>8.742577e+10</td>\n",
              "      <td>2.147483e+09</td>\n",
              "      <td>3.273600e+04</td>\n",
              "      <td>9.999000e+03</td>\n",
              "      <td>3.000000e+00</td>\n",
              "      <td>1.000000e+00</td>\n",
              "      <td>3.000000e+05</td>\n",
              "    </tr>\n",
              "  </tbody>\n",
              "</table>\n",
              "</div>"
            ],
            "text/plain": [
              "             row_id     timestamp       user_id    content_id  \\\n",
              "count  1.012303e+08  1.012303e+08  1.012303e+08  1.012303e+08   \n",
              "mean   5.061517e+07  7.703644e+09  1.076732e+09  5.219605e+03   \n",
              "std    2.922268e+07  1.159266e+10  6.197163e+08  3.866359e+03   \n",
              "min    0.000000e+00  0.000000e+00  1.150000e+02  0.000000e+00   \n",
              "25%    2.530758e+07  5.243436e+08  5.408116e+08  2.063000e+03   \n",
              "50%    5.061517e+07  2.674234e+09  1.071781e+09  5.026000e+03   \n",
              "75%    7.592275e+07  9.924551e+09  1.615742e+09  7.425000e+03   \n",
              "max    1.012303e+08  8.742577e+10  2.147483e+09  3.273600e+04   \n",
              "\n",
              "       task_container_id   user_answer  answered_correctly  \\\n",
              "count       1.012303e+08  1.012303e+08        1.012303e+08   \n",
              "mean        9.040624e+02  1.376123e+00        6.251644e-01   \n",
              "std         1.358302e+03  1.192896e+00        5.225307e-01   \n",
              "min         0.000000e+00 -1.000000e+00       -1.000000e+00   \n",
              "25%         1.040000e+02  0.000000e+00        0.000000e+00   \n",
              "50%         3.820000e+02  1.000000e+00        1.000000e+00   \n",
              "75%         1.094000e+03  3.000000e+00        1.000000e+00   \n",
              "max         9.999000e+03  3.000000e+00        1.000000e+00   \n",
              "\n",
              "       prior_question_elapsed_time  \n",
              "count                 9.887879e+07  \n",
              "mean                  2.542384e+04  \n",
              "std                   2.122839e+04  \n",
              "min                   0.000000e+00  \n",
              "25%                   1.600000e+04  \n",
              "50%                   2.100000e+04  \n",
              "75%                   2.966600e+04  \n",
              "max                   3.000000e+05  "
            ]
          },
          "execution_count": 36,
          "metadata": {},
          "output_type": "execute_result"
        }
      ],
      "source": [
        "train.describe()"
      ]
    },
    {
      "cell_type": "markdown",
      "id": "066d8256-4b2d-4f91-8f65-b73feb3fc7cd",
      "metadata": {
        "id": "066d8256-4b2d-4f91-8f65-b73feb3fc7cd"
      },
      "source": [
        "Проверим есть ли в нем нуливые значения"
      ]
    },
    {
      "cell_type": "code",
      "execution_count": null,
      "id": "bd6f5244-38b9-491f-93ae-7c59f5337a7e",
      "metadata": {
        "id": "bd6f5244-38b9-491f-93ae-7c59f5337a7e",
        "outputId": "2075bea4-751a-42ef-e806-ef1d219c54f6"
      },
      "outputs": [
        {
          "data": {
            "text/plain": [
              "row_id                            False\n",
              "timestamp                         False\n",
              "user_id                           False\n",
              "content_id                        False\n",
              "content_type_id                   False\n",
              "task_container_id                 False\n",
              "user_answer                       False\n",
              "answered_correctly                False\n",
              "prior_question_elapsed_time        True\n",
              "prior_question_had_explanation     True\n",
              "dtype: bool"
            ]
          },
          "execution_count": 52,
          "metadata": {},
          "output_type": "execute_result"
        }
      ],
      "source": [
        "train.isnull().any()"
      ]
    },
    {
      "cell_type": "markdown",
      "id": "21fd3b05-c550-49bf-86c6-85042b79c62c",
      "metadata": {
        "id": "21fd3b05-c550-49bf-86c6-85042b79c62c"
      },
      "source": [
        "Нуливые значения есть только в 2 столбцах prior_question_elapsed_time и prior_question_had_explanation посмотрим количество нулевых значений"
      ]
    },
    {
      "cell_type": "code",
      "execution_count": null,
      "id": "849186e4-1ca1-4a8e-bd85-84473fb0619a",
      "metadata": {
        "id": "849186e4-1ca1-4a8e-bd85-84473fb0619a",
        "outputId": "33a7f299-233d-4936-de02-dc4864acb030"
      },
      "outputs": [
        {
          "data": {
            "text/plain": [
              "2351538"
            ]
          },
          "execution_count": 56,
          "metadata": {},
          "output_type": "execute_result"
        }
      ],
      "source": [
        "train.prior_question_elapsed_time.isnull().sum()"
      ]
    },
    {
      "cell_type": "code",
      "execution_count": null,
      "id": "71bd7451-43dd-44d6-b786-952b98be806a",
      "metadata": {
        "id": "71bd7451-43dd-44d6-b786-952b98be806a",
        "outputId": "d2612cce-578a-48b6-df32-2eaa722f0eb9"
      },
      "outputs": [
        {
          "data": {
            "text/plain": [
              "392506"
            ]
          },
          "execution_count": 58,
          "metadata": {},
          "output_type": "execute_result"
        }
      ],
      "source": [
        "train.prior_question_had_explanation.isnull().sum()"
      ]
    },
    {
      "cell_type": "markdown",
      "id": "10df0008-a697-4552-93ac-0708db699fd4",
      "metadata": {
        "id": "10df0008-a697-4552-93ac-0708db699fd4"
      },
      "source": [
        "Посмотрим сколько уникальных пользователей"
      ]
    },
    {
      "cell_type": "code",
      "execution_count": null,
      "id": "eaeed49c-8b39-4829-9d0e-aa3f39a063e5",
      "metadata": {
        "id": "eaeed49c-8b39-4829-9d0e-aa3f39a063e5",
        "outputId": "a4bebaed-d383-4c7f-fd24-913f2f6423f4"
      },
      "outputs": [
        {
          "name": "stdout",
          "output_type": "stream",
          "text": [
            "Колличество пользователей 393656\n"
          ]
        }
      ],
      "source": [
        "print(f'Колличество пользователей {train.user_id.nunique()}')"
      ]
    },
    {
      "cell_type": "markdown",
      "id": "ac1374c7-c4d0-4146-9d15-17d7786c383b",
      "metadata": {
        "id": "ac1374c7-c4d0-4146-9d15-17d7786c383b"
      },
      "source": [
        "Посмотрим какие значения и в каком количестве могут принемать столбцы content_type_id user_answer answered_correctly"
      ]
    },
    {
      "cell_type": "code",
      "execution_count": null,
      "id": "303427b7-a926-4535-b278-4b0aa2a5b480",
      "metadata": {
        "id": "303427b7-a926-4535-b278-4b0aa2a5b480",
        "outputId": "20f9c6f4-e452-453f-af86-ee37e7bccd99"
      },
      "outputs": [
        {
          "data": {
            "text/plain": [
              "content_type_id\n",
              "False    99271300\n",
              "True      1959032\n",
              "Name: count, dtype: Int64"
            ]
          },
          "execution_count": 65,
          "metadata": {},
          "output_type": "execute_result"
        }
      ],
      "source": [
        "train.content_type_id.value_counts()"
      ]
    },
    {
      "cell_type": "code",
      "execution_count": null,
      "id": "817ee5a8-5d47-4182-96f8-b58510eeeac6",
      "metadata": {
        "id": "817ee5a8-5d47-4182-96f8-b58510eeeac6",
        "outputId": "4736282e-9cca-4610-a8b7-7b8cd271f143"
      },
      "outputs": [
        {
          "data": {
            "text/plain": [
              "user_answer\n",
              " 0    28186489\n",
              " 1    26990007\n",
              " 3    26084784\n",
              " 2    18010020\n",
              "-1     1959032\n",
              "Name: count, dtype: int64"
            ]
          },
          "execution_count": 67,
          "metadata": {},
          "output_type": "execute_result"
        }
      ],
      "source": [
        "train.user_answer.value_counts()"
      ]
    },
    {
      "cell_type": "code",
      "execution_count": null,
      "id": "6497eb4b-887f-4720-9818-dcc34f020af8",
      "metadata": {
        "id": "6497eb4b-887f-4720-9818-dcc34f020af8",
        "outputId": "58172389-10af-4e70-9e05-783a326aa336"
      },
      "outputs": [
        {
          "data": {
            "text/plain": [
              "answered_correctly\n",
              " 1    65244627\n",
              " 0    34026673\n",
              "-1     1959032\n",
              "Name: count, dtype: int64"
            ]
          },
          "execution_count": 68,
          "metadata": {},
          "output_type": "execute_result"
        }
      ],
      "source": [
        "train.answered_correctly.value_counts()"
      ]
    },
    {
      "cell_type": "code",
      "execution_count": null,
      "id": "52e2a708-ee97-47b2-a100-d8b7cb36aa59",
      "metadata": {
        "id": "52e2a708-ee97-47b2-a100-d8b7cb36aa59",
        "outputId": "aa73fdc6-54ec-4b18-80de-5b1d72def8f9"
      },
      "outputs": [
        {
          "name": "stdout",
          "output_type": "stream",
          "text": [
            "Средняя доля правильных ответов на пользователя:\n",
            "user_id\n",
            "115     0.695652\n",
            "124     0.233333\n",
            "2746    0.500000\n",
            "5382    0.632812\n",
            "8623    0.598214\n",
            "Name: answered_correctly, dtype: float64\n"
          ]
        }
      ],
      "source": [
        "# Анализ доли правильных ответов для каждого пользователя\n",
        "correct_ratio = train.groupby('user_id')['answered_correctly'].mean()\n",
        "print(\"Средняя доля правильных ответов на пользователя:\")\n",
        "print(correct_ratio.head())"
      ]
    },
    {
      "cell_type": "code",
      "execution_count": null,
      "id": "6b63d5ed-3037-4e5d-af91-c6e5cf82c03e",
      "metadata": {
        "id": "6b63d5ed-3037-4e5d-af91-c6e5cf82c03e",
        "outputId": "7f5f07e6-e5cd-4b3b-d7ad-95336c023cfd"
      },
      "outputs": [
        {
          "name": "stdout",
          "output_type": "stream",
          "text": [
            "Среднее время ответа на пользователя:\n",
            "user_id\n",
            "115     19933.310547\n",
            "124     18793.000000\n",
            "2746    18055.554688\n",
            "5382    36048.386719\n",
            "8623    26107.408203\n",
            "Name: prior_question_elapsed_time, dtype: float32\n"
          ]
        }
      ],
      "source": [
        "user_stats = train.groupby('user_id')['prior_question_elapsed_time'].mean()\n",
        "print(\"Среднее время ответа на пользователя:\")\n",
        "print(user_stats.head())"
      ]
    },
    {
      "cell_type": "code",
      "execution_count": null,
      "id": "dddfc6ed-b7b4-438f-b12d-aeb63a10519a",
      "metadata": {
        "id": "dddfc6ed-b7b4-438f-b12d-aeb63a10519a",
        "outputId": "96ff3f4b-2073-4e86-d116-27705426c9a3"
      },
      "outputs": [
        {
          "name": "stdout",
          "output_type": "stream",
          "text": [
            "Средняя доля правильных ответов по task_container_id:\n",
            "task_container_id\n",
            "0    0.679709\n",
            "1    0.526979\n",
            "2    0.435514\n",
            "3    0.543012\n",
            "4    0.476876\n",
            "Name: answered_correctly, dtype: float64\n"
          ]
        }
      ],
      "source": [
        "task_analysis = train.groupby('task_container_id')['answered_correctly'].mean()\n",
        "print(\"Средняя доля правильных ответов по task_container_id:\")\n",
        "print(task_analysis.head())"
      ]
    },
    {
      "cell_type": "code",
      "execution_count": null,
      "id": "c0d71a6e-e1e6-42e1-8187-2ac99591722e",
      "metadata": {
        "id": "c0d71a6e-e1e6-42e1-8187-2ac99591722e",
        "outputId": "4bfeaeae-a68b-476e-8dd5-17baa2ac8f47"
      },
      "outputs": [
        {
          "name": "stdout",
          "output_type": "stream",
          "text": [
            "Корреляция признаков с answered_correctly:\n",
            "answered_correctly                1.000000\n",
            "prior_question_had_explanation    0.261694\n",
            "user_answer                       0.126471\n",
            "task_container_id                 0.061129\n",
            "timestamp                         0.025452\n",
            "row_id                           -0.000303\n",
            "user_id                          -0.000307\n",
            "prior_question_elapsed_time      -0.007900\n",
            "content_id                       -0.196960\n",
            "content_type_id                  -0.436912\n",
            "Name: answered_correctly, dtype: float64\n"
          ]
        }
      ],
      "source": [
        "# Вычисляем корреляцию\n",
        "correlation = train.corr()\n",
        "\n",
        "# Корреляция только с 'answered_correctly'\n",
        "answered_correctly_corr = correlation['answered_correctly'].sort_values(ascending=False)\n",
        "\n",
        "print(\"Корреляция признаков с answered_correctly:\")\n",
        "print(answered_correctly_corr)"
      ]
    },
    {
      "cell_type": "markdown",
      "id": "02e72a35-4d29-42d3-82d3-56cf75c68595",
      "metadata": {
        "id": "02e72a35-4d29-42d3-82d3-56cf75c68595"
      },
      "source": [
        "Интерпретация результатов:\n",
        "1. Высокая положительная корреляция:\n",
        "prior_question_had_explanation (0.261694): Этот признак оказывает наибольшее положительное влияние на правильность ответа. Это означает, что если студент видел объяснение после предыдущего задания, вероятность того, что он правильно ответит на следующий вопрос, увеличивается.\n",
        "2. Умеренная положительная корреляция:\n",
        "user_answer (0.126471): Корреляция указывает, что выбранный пользователем ответ связан с правильностью ответа, но зависимость слабая.\n",
        "task_container_id (0.061129): Небольшая положительная корреляция указывает, что группа заданий влияет на результаты. Возможно, определённые группы задач более понятны студентам.\n",
        "3. Почти нулевая корреляция:\n",
        "timestamp (0.025452): Время, прошедшее с начала сессии, практически не связано с правильностью ответа. Это может говорить о том, что успех на задании слабо зависит от длительности сессии.\n",
        "4. Отрицательная корреляция:\n",
        "prior_question_elapsed_time (-0.007900): Время, потраченное на предыдущий вопрос, слабо отрицательно связано с правильностью ответа. Это может говорить о том, что долгое обдумывание предшествующих вопросов не всегда приводит к успеху.\n",
        "content_id (-0.196960): Негативная корреляция указывает, что некоторые типы контента могут быть более сложными для студентов.\n",
        "content_type_id (-0.436912): Это самая сильная отрицательная корреляция. Признак content_type_id указывает смотрел лекцию студент или нет. Получается что если пользователь не смотрел лекцию результат будет хуже."
      ]
    },
    {
      "cell_type": "code",
      "execution_count": null,
      "id": "568bdb79-1fc3-4584-a7fa-c4c57ca6d747",
      "metadata": {
        "id": "568bdb79-1fc3-4584-a7fa-c4c57ca6d747",
        "outputId": "70a029a8-320e-4423-fb00-34375a629af3"
      },
      "outputs": [
        {
          "name": "stdout",
          "output_type": "stream",
          "text": [
            "<class 'pandas.core.frame.DataFrame'>\n",
            "RangeIndex: 418 entries, 0 to 417\n",
            "Data columns (total 4 columns):\n",
            " #   Column      Non-Null Count  Dtype \n",
            "---  ------      --------------  ----- \n",
            " 0   lecture_id  418 non-null    int64 \n",
            " 1   tag         418 non-null    int64 \n",
            " 2   part        418 non-null    int64 \n",
            " 3   type_of     418 non-null    object\n",
            "dtypes: int64(3), object(1)\n",
            "memory usage: 13.2+ KB\n"
          ]
        },
        {
          "data": {
            "text/plain": [
              "None"
            ]
          },
          "metadata": {},
          "output_type": "display_data"
        },
        {
          "data": {
            "text/html": [
              "<div>\n",
              "<style scoped>\n",
              "    .dataframe tbody tr th:only-of-type {\n",
              "        vertical-align: middle;\n",
              "    }\n",
              "\n",
              "    .dataframe tbody tr th {\n",
              "        vertical-align: top;\n",
              "    }\n",
              "\n",
              "    .dataframe thead th {\n",
              "        text-align: right;\n",
              "    }\n",
              "</style>\n",
              "<table border=\"1\" class=\"dataframe\">\n",
              "  <thead>\n",
              "    <tr style=\"text-align: right;\">\n",
              "      <th></th>\n",
              "      <th>lecture_id</th>\n",
              "      <th>tag</th>\n",
              "      <th>part</th>\n",
              "      <th>type_of</th>\n",
              "    </tr>\n",
              "  </thead>\n",
              "  <tbody>\n",
              "    <tr>\n",
              "      <th>0</th>\n",
              "      <td>89</td>\n",
              "      <td>159</td>\n",
              "      <td>5</td>\n",
              "      <td>concept</td>\n",
              "    </tr>\n",
              "    <tr>\n",
              "      <th>1</th>\n",
              "      <td>100</td>\n",
              "      <td>70</td>\n",
              "      <td>1</td>\n",
              "      <td>concept</td>\n",
              "    </tr>\n",
              "    <tr>\n",
              "      <th>2</th>\n",
              "      <td>185</td>\n",
              "      <td>45</td>\n",
              "      <td>6</td>\n",
              "      <td>concept</td>\n",
              "    </tr>\n",
              "    <tr>\n",
              "      <th>3</th>\n",
              "      <td>192</td>\n",
              "      <td>79</td>\n",
              "      <td>5</td>\n",
              "      <td>solving question</td>\n",
              "    </tr>\n",
              "    <tr>\n",
              "      <th>4</th>\n",
              "      <td>317</td>\n",
              "      <td>156</td>\n",
              "      <td>5</td>\n",
              "      <td>solving question</td>\n",
              "    </tr>\n",
              "  </tbody>\n",
              "</table>\n",
              "</div>"
            ],
            "text/plain": [
              "   lecture_id  tag  part           type_of\n",
              "0          89  159     5           concept\n",
              "1         100   70     1           concept\n",
              "2         185   45     6           concept\n",
              "3         192   79     5  solving question\n",
              "4         317  156     5  solving question"
            ]
          },
          "metadata": {},
          "output_type": "display_data"
        },
        {
          "data": {
            "text/plain": [
              "(418, 4)"
            ]
          },
          "execution_count": 79,
          "metadata": {},
          "output_type": "execute_result"
        }
      ],
      "source": [
        "lectures = pd.read_csv('lectures.csv')\n",
        "display(lectures.info())\n",
        "display(lectures.head())\n",
        "lectures.shape\n"
      ]
    },
    {
      "cell_type": "code",
      "execution_count": null,
      "id": "bc76381d-75b6-4020-8b68-467e95e7afa8",
      "metadata": {
        "id": "bc76381d-75b6-4020-8b68-467e95e7afa8",
        "outputId": "5b3ca3f5-ec25-40da-82f1-e38a2006021f"
      },
      "outputs": [
        {
          "data": {
            "text/plain": [
              "lecture_id    False\n",
              "tag           False\n",
              "part          False\n",
              "type_of       False\n",
              "dtype: bool"
            ]
          },
          "execution_count": 80,
          "metadata": {},
          "output_type": "execute_result"
        }
      ],
      "source": [
        "lectures.isnull().any()"
      ]
    },
    {
      "cell_type": "markdown",
      "id": "26b51d03-38aa-4888-b118-6bcbd868fbaf",
      "metadata": {
        "id": "26b51d03-38aa-4888-b118-6bcbd868fbaf"
      },
      "source": [
        "Нуливых значений в таблице нету"
      ]
    },
    {
      "cell_type": "code",
      "execution_count": null,
      "id": "fca1b699-7aa2-4929-9482-8975f212538a",
      "metadata": {
        "id": "fca1b699-7aa2-4929-9482-8975f212538a",
        "outputId": "e28bc5d7-2ba0-45a6-9a37-cb15e4edf46f"
      },
      "outputs": [
        {
          "data": {
            "text/plain": [
              "type_of\n",
              "concept             222\n",
              "solving question    186\n",
              "intention             7\n",
              "starter               3\n",
              "Name: count, dtype: int64"
            ]
          },
          "metadata": {},
          "output_type": "display_data"
        }
      ],
      "source": [
        "display(lectures.type_of.value_counts())"
      ]
    },
    {
      "cell_type": "markdown",
      "id": "99b5e474-d86e-41f7-8126-7cfa53fb0491",
      "metadata": {
        "id": "99b5e474-d86e-41f7-8126-7cfa53fb0491"
      },
      "source": [
        "Посмотрев количество уникальных значений в столбце type_of приходим к выводу что\n",
        "Тип starter встречается всего 3 раза. Это может быть вводная или начальная лекция/вопрос\n",
        "concept: 222 Возможно, это лекции или вопросы, которые фокусируются на объяснении концепций.\n",
        "solving question: 186 Это может быть связано с лекциями или вопросами, направленными на решение задач.\n",
        "intention: 7  Возможно, это редкий тип, связанный с намерениями или целью обучения.\n",
        "starter: 3 Это может быть вводная или начальная лекция/вопрос, предназначенная для старта обучения."
      ]
    },
    {
      "cell_type": "code",
      "execution_count": null,
      "id": "1c0a701c-cb93-4f82-9b40-d39e354fecfd",
      "metadata": {
        "id": "1c0a701c-cb93-4f82-9b40-d39e354fecfd",
        "outputId": "dbe818dc-19e8-4c2f-e1ac-13a522c9bddf"
      },
      "outputs": [
        {
          "name": "stdout",
          "output_type": "stream",
          "text": [
            "418\n",
            "151\n"
          ]
        }
      ],
      "source": [
        "print(lectures.lecture_id.nunique())\n",
        "print(lectures.tag.nunique())"
      ]
    },
    {
      "cell_type": "markdown",
      "id": "2a8c70e5-9ee2-4b7a-93e0-888aea0e6aba",
      "metadata": {
        "id": "2a8c70e5-9ee2-4b7a-93e0-888aea0e6aba"
      },
      "source": [
        "lecture_id совпадает с общим количеством строк, а уникальных тегов всего 151."
      ]
    },
    {
      "cell_type": "code",
      "execution_count": null,
      "id": "942366eb-3c5d-4a00-bce0-c73aaf853964",
      "metadata": {
        "id": "942366eb-3c5d-4a00-bce0-c73aaf853964",
        "outputId": "655d9c09-6726-484d-9312-e76c0bbf86ce"
      },
      "outputs": [
        {
          "name": "stdout",
          "output_type": "stream",
          "text": [
            "<class 'pandas.core.frame.DataFrame'>\n",
            "RangeIndex: 13523 entries, 0 to 13522\n",
            "Data columns (total 5 columns):\n",
            " #   Column          Non-Null Count  Dtype \n",
            "---  ------          --------------  ----- \n",
            " 0   question_id     13523 non-null  int64 \n",
            " 1   bundle_id       13523 non-null  int64 \n",
            " 2   correct_answer  13523 non-null  int64 \n",
            " 3   part            13523 non-null  int64 \n",
            " 4   tags            13522 non-null  object\n",
            "dtypes: int64(4), object(1)\n",
            "memory usage: 528.4+ KB\n"
          ]
        },
        {
          "data": {
            "text/plain": [
              "None"
            ]
          },
          "metadata": {},
          "output_type": "display_data"
        },
        {
          "data": {
            "text/html": [
              "<div>\n",
              "<style scoped>\n",
              "    .dataframe tbody tr th:only-of-type {\n",
              "        vertical-align: middle;\n",
              "    }\n",
              "\n",
              "    .dataframe tbody tr th {\n",
              "        vertical-align: top;\n",
              "    }\n",
              "\n",
              "    .dataframe thead th {\n",
              "        text-align: right;\n",
              "    }\n",
              "</style>\n",
              "<table border=\"1\" class=\"dataframe\">\n",
              "  <thead>\n",
              "    <tr style=\"text-align: right;\">\n",
              "      <th></th>\n",
              "      <th>question_id</th>\n",
              "      <th>bundle_id</th>\n",
              "      <th>correct_answer</th>\n",
              "      <th>part</th>\n",
              "      <th>tags</th>\n",
              "    </tr>\n",
              "  </thead>\n",
              "  <tbody>\n",
              "    <tr>\n",
              "      <th>0</th>\n",
              "      <td>0</td>\n",
              "      <td>0</td>\n",
              "      <td>0</td>\n",
              "      <td>1</td>\n",
              "      <td>51 131 162 38</td>\n",
              "    </tr>\n",
              "    <tr>\n",
              "      <th>1</th>\n",
              "      <td>1</td>\n",
              "      <td>1</td>\n",
              "      <td>1</td>\n",
              "      <td>1</td>\n",
              "      <td>131 36 81</td>\n",
              "    </tr>\n",
              "    <tr>\n",
              "      <th>2</th>\n",
              "      <td>2</td>\n",
              "      <td>2</td>\n",
              "      <td>0</td>\n",
              "      <td>1</td>\n",
              "      <td>131 101 162 92</td>\n",
              "    </tr>\n",
              "    <tr>\n",
              "      <th>3</th>\n",
              "      <td>3</td>\n",
              "      <td>3</td>\n",
              "      <td>0</td>\n",
              "      <td>1</td>\n",
              "      <td>131 149 162 29</td>\n",
              "    </tr>\n",
              "    <tr>\n",
              "      <th>4</th>\n",
              "      <td>4</td>\n",
              "      <td>4</td>\n",
              "      <td>3</td>\n",
              "      <td>1</td>\n",
              "      <td>131 5 162 38</td>\n",
              "    </tr>\n",
              "  </tbody>\n",
              "</table>\n",
              "</div>"
            ],
            "text/plain": [
              "   question_id  bundle_id  correct_answer  part            tags\n",
              "0            0          0               0     1   51 131 162 38\n",
              "1            1          1               1     1       131 36 81\n",
              "2            2          2               0     1  131 101 162 92\n",
              "3            3          3               0     1  131 149 162 29\n",
              "4            4          4               3     1    131 5 162 38"
            ]
          },
          "metadata": {},
          "output_type": "display_data"
        }
      ],
      "source": [
        "questions = pd.read_csv('questions.csv')\n",
        "display(questions.info())\n",
        "display(questions.head())"
      ]
    },
    {
      "cell_type": "markdown",
      "id": "e94c6c6c-6eb2-4773-baf5-d8d4128e089d",
      "metadata": {
        "id": "e94c6c6c-6eb2-4773-baf5-d8d4128e089d"
      },
      "source": [
        "В датасете question_id и bundle_id совподают с номером строки"
      ]
    },
    {
      "cell_type": "code",
      "execution_count": null,
      "id": "37d8a12f-c5f5-4bb1-a54f-76889c3f48e7",
      "metadata": {
        "id": "37d8a12f-c5f5-4bb1-a54f-76889c3f48e7",
        "outputId": "2508b8c6-6fd0-4f48-ea12-200541086681"
      },
      "outputs": [
        {
          "data": {
            "text/plain": [
              "question_id       False\n",
              "bundle_id         False\n",
              "correct_answer    False\n",
              "part              False\n",
              "tags               True\n",
              "dtype: bool"
            ]
          },
          "execution_count": 88,
          "metadata": {},
          "output_type": "execute_result"
        }
      ],
      "source": [
        "questions.isnull().any()"
      ]
    },
    {
      "cell_type": "code",
      "execution_count": null,
      "id": "43ae31cf-8a8c-4934-8270-710617fd5759",
      "metadata": {
        "id": "43ae31cf-8a8c-4934-8270-710617fd5759",
        "outputId": "8380a773-77ff-4e5c-b861-53bd1e961e56"
      },
      "outputs": [
        {
          "data": {
            "text/plain": [
              "question_id       0\n",
              "bundle_id         0\n",
              "correct_answer    0\n",
              "part              0\n",
              "tags              1\n",
              "dtype: int64"
            ]
          },
          "execution_count": 89,
          "metadata": {},
          "output_type": "execute_result"
        }
      ],
      "source": [
        "questions.isnull().sum()"
      ]
    },
    {
      "cell_type": "code",
      "execution_count": null,
      "id": "62050ed2-518f-4757-9c37-e16182fc083d",
      "metadata": {
        "id": "62050ed2-518f-4757-9c37-e16182fc083d"
      },
      "outputs": [],
      "source": [
        "questions.dropna(subset=['tags'], inplace=True)"
      ]
    },
    {
      "cell_type": "code",
      "execution_count": null,
      "id": "e9c92896-7668-4ea2-9e42-60afff8902ce",
      "metadata": {
        "id": "e9c92896-7668-4ea2-9e42-60afff8902ce",
        "outputId": "76beeba2-0bc3-4b64-8974-ec93aa35ad8a"
      },
      "outputs": [
        {
          "data": {
            "text/plain": [
              "array([1, 2, 3, 4, 5, 6, 7], dtype=int64)"
            ]
          },
          "metadata": {},
          "output_type": "display_data"
        },
        {
          "data": {
            "text/plain": [
              "array([0, 1, 3, 2], dtype=int64)"
            ]
          },
          "metadata": {},
          "output_type": "display_data"
        }
      ],
      "source": [
        "display(questions.part.unique())\n",
        "display(questions.correct_answer.unique())"
      ]
    },
    {
      "cell_type": "code",
      "execution_count": null,
      "id": "e3f2ff1f-127d-4ccf-b442-253b9036ba15",
      "metadata": {
        "id": "e3f2ff1f-127d-4ccf-b442-253b9036ba15",
        "outputId": "2e546a05-838c-4daa-ab74-6fbb7e58eaff"
      },
      "outputs": [
        {
          "data": {
            "text/plain": [
              "part\n",
              "1    1.502016\n",
              "2    1.310868\n",
              "3    1.499360\n",
              "4    1.477415\n",
              "5    1.454727\n",
              "6    1.444261\n",
              "7    1.547414\n",
              "Name: correct_answer, dtype: float64"
            ]
          },
          "metadata": {},
          "output_type": "display_data"
        }
      ],
      "source": [
        "# Группируем данные по 'part' и вычисляем среднее значение 'correct_answer'\n",
        "correct_answer_by_part = questions.groupby('part')['correct_answer'].mean()\n",
        "display(correct_answer_by_part)"
      ]
    },
    {
      "cell_type": "markdown",
      "id": "fcb96808-82b3-480b-a36c-586fdb308802",
      "metadata": {
        "id": "fcb96808-82b3-480b-a36c-586fdb308802"
      },
      "source": [
        "Как видим из таблицы больше всего правильных ответов в 7 часте и больше всего затруднений в 2"
      ]
    },
    {
      "cell_type": "code",
      "execution_count": null,
      "id": "67e161c7-2140-4f4b-be66-02d3925beae4",
      "metadata": {
        "id": "67e161c7-2140-4f4b-be66-02d3925beae4"
      },
      "outputs": [],
      "source": []
    }
  ],
  "metadata": {
    "kernelspec": {
      "display_name": "Python 3 (ipykernel)",
      "language": "python",
      "name": "python3"
    },
    "language_info": {
      "codemirror_mode": {
        "name": "ipython",
        "version": 3
      },
      "file_extension": ".py",
      "mimetype": "text/x-python",
      "name": "python",
      "nbconvert_exporter": "python",
      "pygments_lexer": "ipython3",
      "version": "3.12.4"
    },
    "colab": {
      "provenance": [],
      "include_colab_link": true
    }
  },
  "nbformat": 4,
  "nbformat_minor": 5
}